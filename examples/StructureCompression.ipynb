{
 "cells": [
  {
   "cell_type": "code",
   "execution_count": null,
   "metadata": {},
   "outputs": [],
   "source": [
    "import numpy as np\n",
    "import nerfax\n",
    "\n",
    "from matplotlib import pyplot as plt\n",
    "from bio_datasets.features.atom_array import load_structure\n",
    "from bio_datasets.protein.internal_coordinates import get_backbone_internals, load_backbone_coord_array\n",
    "\n",
    "%matplotlib inline"
   ]
  },
  {
   "cell_type": "code",
   "execution_count": null,
   "metadata": {},
   "outputs": [],
   "source": [
    "PDB_FILE = \"../tests/AF-Q9R172-F1-model_v4.pdb\"  # a long protein chain from AFDB"
   ]
  },
  {
   "cell_type": "code",
   "execution_count": null,
   "metadata": {},
   "outputs": [],
   "source": [
    "import numpy as np\n",
    "\n",
    "def discretize_to_bits(arr: np.ndarray, bits: int, max_val: float, min_val: float = 0, signed: bool = False) -> np.ndarray:\n",
    "    \"\"\"\n",
    "    Discretize a NumPy array of floats/integers to the specified number of bits with automatic scaling.\n",
    "    \n",
    "    Args:\n",
    "        arr (np.ndarray): Array of floats or integers to be discretized.\n",
    "        bits (int): Number of bits for discretization.\n",
    "        min_val (float): Minimum possible value in the input range.\n",
    "        max_val (float): Maximum possible value in the input range.\n",
    "        signed (bool): Whether to use signed or unsigned integer representation.\n",
    "    \n",
    "    Returns:\n",
    "        np.ndarray: Array of discretized integers.\n",
    "    \"\"\"\n",
    "    if signed:\n",
    "        # Signed range: [-2^(bits-1), 2^(bits-1) - 1]\n",
    "        max_int_val = (2 ** (bits - 1)) - 1\n",
    "        min_int_val = -(2 ** (bits - 1))\n",
    "    else:\n",
    "        # Unsigned range: [0, 2^bits - 1]\n",
    "        max_int_val = (2 ** bits) - 1\n",
    "        min_int_val = 0\n",
    "\n",
    "    # Normalize to the range [0, 1]\n",
    "    normalized = (arr - min_val) / (max_val - min_val)\n",
    "    \n",
    "    # Scale to the target integer range\n",
    "    scaled = normalized * (max_int_val - min_int_val) + min_int_val\n",
    "    \n",
    "    # Discretize to integer values\n",
    "    discretized = np.round(scaled).astype(np.int32)\n",
    "    \n",
    "    return discretized\n",
    "\n",
    "\n",
    "def decode_from_bits(arr: np.ndarray, bits: int, max_val: float, min_val: float = 0, signed: bool = False) -> np.ndarray:\n",
    "    \"\"\"\n",
    "    Decode a NumPy array of discretized integers back to the original floating-point values.\n",
    "    \n",
    "    Args:\n",
    "        arr (np.ndarray): Array of discretized integers.\n",
    "        bits (int): Number of bits used for discretization.\n",
    "        min_val (float): Minimum possible value in the input range.\n",
    "        max_val (float): Maximum possible value in the input range.\n",
    "        signed (bool): Whether the original discretization used signed or unsigned integers.\n",
    "    \n",
    "    Returns:\n",
    "        np.ndarray: Array of decoded floating-point values.\n",
    "    \"\"\"\n",
    "    if signed:\n",
    "        # Signed range: [-2^(bits-1), 2^(bits-1) - 1]\n",
    "        max_int_val = (2 ** (bits - 1)) - 1\n",
    "        min_int_val = -(2 ** (bits - 1))\n",
    "    else:\n",
    "        # Unsigned range: [0, 2^bits - 1]\n",
    "        max_int_val = (2 ** bits) - 1\n",
    "        min_int_val = 0\n",
    "\n",
    "    # Scale back to the normalized range [0, 1]\n",
    "    normalized = (arr - min_int_val) / (max_int_val - min_int_val)\n",
    "\n",
    "    # Scale to the original value range [min_val, max_val]\n",
    "    decoded = normalized * (max_val - min_val) + min_val\n",
    "    \n",
    "    return decoded\n"
   ]
  },
  {
   "cell_type": "code",
   "execution_count": null,
   "metadata": {},
   "outputs": [],
   "source": [
    "val = 1059.459\n",
    "for i in range(1, 10):\n",
    "    bit_conf = {\"min_val\": 0, \"max_val\": 2048, \"signed\": True, \"bits\": i}\n",
    "    decoded = decode_from_bits(discretize_to_bits(np.array([val]), **bit_conf), **bit_conf)\n",
    "    print(f\"bits: {i}, input: {val}, decoded: {decoded[0]}\")"
   ]
  },
  {
   "cell_type": "code",
   "execution_count": null,
   "metadata": {},
   "outputs": [],
   "source": [
    "def load_coords(pdb_file: str, chain: str = \"A\"):\n",
    "    \"\"\"Load cartesian coordinates and internal coordinates for a protein backbone from a PDB file.\"\"\"\n",
    "    struct = load_structure(pdb_file)\n",
    "    struct = struct[struct.chain_id == chain]\n",
    "    xyz_bb = load_backbone_coord_array(struct)\n",
    "    internals = get_backbone_internals(struct)\n",
    "    return xyz_bb, internals\n",
    "\n",
    "xyz_bb, internals = load_coords(PDB_FILE)\n"
   ]
  },
  {
   "cell_type": "code",
   "execution_count": null,
   "metadata": {},
   "outputs": [],
   "source": [
    "print(\"Cartesian coords shape:\", xyz_bb.shape)\n",
    "bond_lengths, bond_angles, dihedrals = internals\n",
    "print(\"Internal coords shape:\", bond_lengths.shape, bond_angles.shape, dihedrals.shape)\n"
   ]
  },
  {
   "cell_type": "markdown",
   "metadata": {},
   "source": [
    "N.B. the first entries in lengths and angles are weird outliers due to\n",
    "adding a point at the origin as some kind of ghost first atom"
   ]
  },
  {
   "cell_type": "code",
   "execution_count": null,
   "metadata": {},
   "outputs": [],
   "source": [
    "bond_lengths[0].max(), bond_lengths[1:].max()  # outlier value in first row"
   ]
  },
  {
   "cell_type": "code",
   "execution_count": null,
   "metadata": {},
   "outputs": [],
   "source": [
    "# idealised values\n",
    "BACKBONE_BOND_LENGTHS = np.array([1.33,1.46,1.52])\n",
    "BACKBONE_ANGLES = np.array([1.095, 0.98, 1.20])"
   ]
  },
  {
   "cell_type": "code",
   "execution_count": null,
   "metadata": {},
   "outputs": [],
   "source": [
    "fig = plt.figure(figsize=(14, 4))\n",
    "ax = plt.subplot(1, 2, 1)\n",
    "\n",
    "length_diffs = bond_lengths - BACKBONE_BOND_LENGTHS\n",
    "angle_diffs = bond_angles - BACKBONE_ANGLES\n",
    "\n",
    "ax.hist(length_diffs[1:].reshape(-1), bins=100)\n",
    "ax.set_title(\"Difference between actual bond lengths and idealised values\", fontsize=12)\n",
    "\n",
    "\n",
    "ax = plt.subplot(1, 2, 2)\n",
    "ax.hist(angle_diffs[1:].reshape(-1), bins=100)\n",
    "ax.set_title(\"Difference between actual bond angles and idealised values\", fontsize=12)"
   ]
  },
  {
   "cell_type": "code",
   "execution_count": null,
   "metadata": {},
   "outputs": [],
   "source": [
    "\n",
    "class Compressor:\n",
    "    def __init__(self, config: dict):\n",
    "        self.config = config\n",
    "\n",
    "    def compress(self, internal_coords):\n",
    "        \"\"\"Compress the internal coordinates. Return internal_coords tuple and compression config.\"\"\"\n",
    "        bond_lengths, bond_angles, dihedrals = internal_coords\n",
    "        # YOUR CODE GOES HERE\n",
    "        pass\n",
    "    \n",
    "    def decompress(self, compressed_internal_coords):\n",
    "        \"\"\"Decompress the internal coordinates. Return a tuple of the form (bond_lengths, bond_angles, dihedrals)\"\"\"\n",
    "        # YOUR CODE GOES HERE\n",
    "        pass\n",
    "\n",
    "\n",
    "# WRITE ANY CONFIG FOR YOUR COMPRESSOR HERE\n",
    "config = {}\n",
    "\n",
    "\n",
    "def round_trip_rmsd(compressor=Compressor, config: dict = None):\n",
    "    config = config or {}\n",
    "    compressor = compressor(config)\n",
    "    for pdb_file in [\"../tests/AF-Q9R172-F1-model_v4.pdb\", \"../tests/AF-V9HVX0-F1-model_v4.pdb\", \"../tests/1qys.pdb\", \"../tests/1aq1.pdb\"]:\n",
    "        xyz_bb, internals = load_coords(pdb_file, chain=\"A\")\n",
    "        compressed_internals = compressor.compress(internals)\n",
    "        decompressed_internals = compressor.decompress(compressed_internals)\n",
    "        xyz_bb_reconstructed = nerfax.reconstruct.reconstruct_from_internal_coordinates(\n",
    "            *decompressed_internals,\n",
    "            mode='fully_sequential'\n",
    "        )\n",
    "        xyz_bb_reconstructed_aligned = nerfax.utils.get_align_rigid_bodies_fn(xyz_bb_reconstructed, xyz_bb.reshape((-1,3)))(xyz_bb_reconstructed)\n",
    "        pdb_id = pdb_file.split(\"/\")[-1].split(\".\")[0]\n",
    "        print(f\"RMSD {pdb_id} ({xyz_bb.shape[0]} residues) {nerfax.foldcomp_tests.compute_rmsd(xyz_bb_reconstructed_aligned, xyz_bb.reshape((-1,3))):.2f} Angstrom\")\n",
    "\n"
   ]
  },
  {
   "cell_type": "markdown",
   "metadata": {},
   "source": [
    "Foldcomp uses 8 bytes per backbone residue and 1 byte for all sidechain atoms.\n",
    "It'd be cool to be able to reproduce their sidechain encoding / decoding.\n",
    "(And like Jude said to infer the amino acid identity from that directly)\n",
    "\n",
    "Foldcomp assumes idealised bond lengths, and has to compensate with error-correction\n",
    "during decoding (the step performed by nerfax.reconstruct.reconstruct_from_internal_coordinates)\n",
    "It also stores full backbone coordinates for every 25th residue, meaning that effectively ~9.5 bytes per residue\n",
    "\n",
    "It's possible with a naive discretisation of each of bond lengths, bond angles, and torsion\n",
    "angles to get a decent 12 byte encoding.\n",
    "\n",
    "Does foldcomp encode all 3 torsion angles or just phi and psi and not omega?\n",
    "\n",
    "Target RMSD <0.1 A (averaged across some typical proteins)"
   ]
  },
  {
   "cell_type": "code",
   "execution_count": null,
   "metadata": {},
   "outputs": [],
   "source": [
    "class NaiveCompressor(Compressor):\n",
    "    def __init__(self, config: dict):\n",
    "        \"\"\"config for Naive Compressor: just min_val, max_val, signed, bits dicts for each internal coord.\n",
    "        \"\"\"\n",
    "        super().__init__(config)\n",
    "\n",
    "    def compress(self, internal_coords):\n",
    "        \"\"\"Compress the internal coordinates. Return internal_coords tuple and compression config.\"\"\"\n",
    "        bond_lengths, bond_angles, dihedrals = internal_coords\n",
    "        length_config = self.config[\"lengths\"]\n",
    "        angle_config = self.config[\"angles\"]\n",
    "        dihedral_config = self.config[\"dihedrals\"]\n",
    "        return (\n",
    "            discretize_to_bits(bond_lengths - BACKBONE_BOND_LENGTHS, **length_config),\n",
    "            discretize_to_bits(bond_angles - BACKBONE_ANGLES, **angle_config),\n",
    "            discretize_to_bits(dihedrals, **dihedral_config),\n",
    "        )\n",
    "    \n",
    "    def decompress(self, compressed_internal_coords):\n",
    "        \"\"\"Decompress the internal coordinates. Return a tuple of the form (bond_lengths, bond_angles, dihedrals)\"\"\"\n",
    "        # YOUR CODE GOES HERE\n",
    "        return (\n",
    "            decode_from_bits(compressed_internal_coords[0], **self.config[\"lengths\"]) + BACKBONE_BOND_LENGTHS,\n",
    "            decode_from_bits(compressed_internal_coords[1], **self.config[\"angles\"]) + BACKBONE_ANGLES,\n",
    "            decode_from_bits(compressed_internal_coords[2], **self.config[\"dihedrals\"]),\n",
    "        )\n",
    "\n",
    "# 3* (6 + 12 + 14) = 96 bits = 12 bytes\n",
    "twelve_byte_length_config = {\"bits\": 6, \"signed\": True, \"min_val\": -0.05, \"max_val\": 0.4}\n",
    "twelve_byte_angle_config = {\"bits\": 12, \"signed\": False, \"max_val\": np.pi}\n",
    "twelve_byte_torsion_config = {\"bits\": 14, \"signed\": False, \"min_val\": -np.pi, \"max_val\": np.pi}\n",
    "\n",
    "round_trip_rmsd(NaiveCompressor, config={\"lengths\": twelve_byte_length_config, \"angles\": twelve_byte_angle_config, \"dihedrals\": twelve_byte_torsion_config})\n"
   ]
  }
 ],
 "metadata": {
  "kernelspec": {
   "display_name": "devo",
   "language": "python",
   "name": "python3"
  },
  "language_info": {
   "codemirror_mode": {
    "name": "ipython",
    "version": 3
   },
   "file_extension": ".py",
   "mimetype": "text/x-python",
   "name": "python",
   "nbconvert_exporter": "python",
   "pygments_lexer": "ipython3",
   "version": "3.11.6"
  }
 },
 "nbformat": 4,
 "nbformat_minor": 2
}
